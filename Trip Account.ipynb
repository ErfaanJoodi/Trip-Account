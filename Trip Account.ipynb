{
 "cells": [
  {
   "cell_type": "markdown",
   "metadata": {},
   "source": [
    "# Hi :)"
   ]
  },
  {
   "cell_type": "markdown",
   "metadata": {},
   "source": [
    "----"
   ]
  },
  {
   "cell_type": "code",
   "execution_count": 21,
   "metadata": {},
   "outputs": [
    {
     "data": {
      "text/plain": [
       "1"
      ]
     },
     "execution_count": 21,
     "metadata": {},
     "output_type": "execute_result"
    }
   ],
   "source": [
    "ls= ['erfan', 'majid', 'mamad', 'seyed']\n",
    "ls.index('majid')"
   ]
  },
  {
   "cell_type": "code",
   "execution_count": 16,
   "metadata": {},
   "outputs": [],
   "source": [
    "n= int(input('How many people you? '))\n",
    "\n",
    "names= []\n",
    "for i in range(n):\n",
    "    name= input(f\"Please enter the name of person number {i + 1}: \").lower()\n",
    "    names.append(name)\n",
    "names= sorted(names)\n",
    "\n",
    "total_amount= {name : {} for name in names}\n",
    "for i in range(len(names)):\n",
    "    ls= names.copy()\n",
    "    del ls[i]\n",
    "    for name in ls:\n",
    "        total_amount[names[i]][name]= 0\n",
    "\n",
    "expenses= []\n",
    "while True:\n",
    "    answer= input('Do you have new expense?(y/n) ').lower()\n",
    "    if answer == 'y':\n",
    "        person= input('Who did pay? ').lower()\n",
    "        fee= float(input('How much was it? '))\n",
    "        ins= []\n",
    "        for name in names:\n",
    "            ans= input(f\"Is {name} involved?(y/n) \").lower()\n",
    "            if ans == 'y':\n",
    "                ins.append(name)\n",
    "        expenses.append([person, fee, ins])\n",
    "    else:\n",
    "        break\n"
   ]
  },
  {
   "cell_type": "code",
   "execution_count": 17,
   "metadata": {},
   "outputs": [
    {
     "data": {
      "text/plain": [
       "{'erfan': {'majid': 0, 'mamad': 0, 'seyed': 0},\n",
       " 'majid': {'erfan': 0, 'mamad': 0, 'seyed': 0},\n",
       " 'mamad': {'erfan': 0, 'majid': 0, 'seyed': 0},\n",
       " 'seyed': {'erfan': 0, 'majid': 0, 'mamad': 0}}"
      ]
     },
     "execution_count": 17,
     "metadata": {},
     "output_type": "execute_result"
    }
   ],
   "source": [
    "total_amount"
   ]
  },
  {
   "cell_type": "code",
   "execution_count": 18,
   "metadata": {},
   "outputs": [
    {
     "data": {
      "text/plain": [
       "[['erfan', 200, ['erfan', 'mamad']],\n",
       " ['seyed', 400, ['majid', 'seyed']],\n",
       " ['majid', 200, ['erfan', 'mamad', 'seyed']],\n",
       " ['mamad', 2000, ['erfan', 'majid', 'mamad', 'seyed']]]"
      ]
     },
     "execution_count": 18,
     "metadata": {},
     "output_type": "execute_result"
    }
   ],
   "source": [
    "expenses.append(['erfan', 200, ['erfan', 'mamad']])\n",
    "expenses.append(['seyed', 400, ['majid', 'seyed']])\n",
    "expenses.append(['majid', 200, ['erfan', 'mamad', 'seyed']])\n",
    "expenses.append(['mamad', 2000, ['erfan', 'majid', 'mamad', 'seyed']])\n",
    "expenses"
   ]
  },
  {
   "cell_type": "code",
   "execution_count": null,
   "metadata": {},
   "outputs": [],
   "source": []
  }
 ],
 "metadata": {
  "kernelspec": {
   "display_name": "Qvenv",
   "language": "python",
   "name": "qvenv"
  },
  "language_info": {
   "codemirror_mode": {
    "name": "ipython",
    "version": 3
   },
   "file_extension": ".py",
   "mimetype": "text/x-python",
   "name": "python",
   "nbconvert_exporter": "python",
   "pygments_lexer": "ipython3",
   "version": "3.10.0"
  }
 },
 "nbformat": 4,
 "nbformat_minor": 2
}
