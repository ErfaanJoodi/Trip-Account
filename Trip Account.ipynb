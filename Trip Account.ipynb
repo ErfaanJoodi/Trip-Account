{
 "cells": [
  {
   "cell_type": "markdown",
   "metadata": {},
   "source": [
    "# Hi :)"
   ]
  },
  {
   "cell_type": "markdown",
   "metadata": {},
   "source": [
    "----"
   ]
  },
  {
   "cell_type": "code",
   "execution_count": 1,
   "metadata": {},
   "outputs": [],
   "source": [
    "# n= int(input('How many people you? '))\n",
    "\n",
    "names= ['erfan', 'majid', 'mamad', 'seyed']\n",
    "# names= []\n",
    "# for i in range(n):\n",
    "#     name= input(f\"Please enter the name of person number {i + 1}: \").lower()\n",
    "#     names.append(name)\n",
    "# names= sorted(names)\n",
    "\n",
    "total_amount= {name : {} for name in names}\n",
    "for i in range(len(names)):\n",
    "    ls= names.copy()\n",
    "    del ls[i]\n",
    "    for name in ls:\n",
    "        total_amount[names[i]][name]= 0\n",
    "\n",
    "expenses= []\n",
    "# while True:\n",
    "#     answer= input('Do you have new expense?(y/n) ').lower()\n",
    "#     if answer == 'y':\n",
    "#         person= input('Who did pay? ').lower()\n",
    "#         fee= float(input('How much was it? '))\n",
    "#         ins= []\n",
    "#         for name in names:\n",
    "#             ans= input(f\"Is {name} involved?(y/n) \").lower()\n",
    "#             if ans == 'y':\n",
    "#                 ins.append(name)\n",
    "#         expenses.append([person, fee, ins])\n",
    "#     else:\n",
    "#         break\n",
    "expenses.append(['erfan', 200, ['erfan', 'mamad']])\n",
    "expenses.append(['seyed', 400, ['majid', 'seyed']])\n",
    "expenses.append(['majid', 200, ['erfan', 'mamad', 'seyed']])\n",
    "expenses.append(['mamad', 2000, ['erfan', 'majid', 'mamad', 'seyed']])"
   ]
  },
  {
   "cell_type": "code",
   "execution_count": 2,
   "metadata": {},
   "outputs": [
    {
     "data": {
      "text/plain": [
       "['erfan', 'majid', 'mamad', 'seyed']"
      ]
     },
     "execution_count": 2,
     "metadata": {},
     "output_type": "execute_result"
    }
   ],
   "source": [
    "names"
   ]
  },
  {
   "cell_type": "code",
   "execution_count": 3,
   "metadata": {},
   "outputs": [
    {
     "data": {
      "text/plain": [
       "{'erfan': {'majid': 0, 'mamad': 0, 'seyed': 0},\n",
       " 'majid': {'erfan': 0, 'mamad': 0, 'seyed': 0},\n",
       " 'mamad': {'erfan': 0, 'majid': 0, 'seyed': 0},\n",
       " 'seyed': {'erfan': 0, 'majid': 0, 'mamad': 0}}"
      ]
     },
     "execution_count": 3,
     "metadata": {},
     "output_type": "execute_result"
    }
   ],
   "source": [
    "total_amount"
   ]
  },
  {
   "cell_type": "code",
   "execution_count": 4,
   "metadata": {},
   "outputs": [
    {
     "data": {
      "text/plain": [
       "[['erfan', 200, ['erfan', 'mamad']],\n",
       " ['seyed', 400, ['majid', 'seyed']],\n",
       " ['majid', 200, ['erfan', 'mamad', 'seyed']],\n",
       " ['mamad', 2000, ['erfan', 'majid', 'mamad', 'seyed']]]"
      ]
     },
     "execution_count": 4,
     "metadata": {},
     "output_type": "execute_result"
    }
   ],
   "source": [
    "expenses"
   ]
  },
  {
   "cell_type": "code",
   "execution_count": 5,
   "metadata": {},
   "outputs": [],
   "source": [
    "for expense in expenses:\n",
    "\n",
    "    person= expense[0]\n",
    "    fee= expense[1]\n",
    "    invs= expense[2]\n",
    "\n",
    "    amount= round(fee / len(invs), 2)\n",
    "\n",
    "    ls= invs.copy()\n",
    "    if person in invs:\n",
    "        del ls[ls.index(person)]\n",
    "    \n",
    "    for name in ls:\n",
    "        total_amount[name][person] += amount"
   ]
  },
  {
   "cell_type": "code",
   "execution_count": 6,
   "metadata": {},
   "outputs": [
    {
     "data": {
      "text/plain": [
       "{'erfan': {'majid': 66.67, 'mamad': 500.0, 'seyed': 0},\n",
       " 'majid': {'erfan': 0, 'mamad': 500.0, 'seyed': 200.0},\n",
       " 'mamad': {'erfan': 100.0, 'majid': 66.67, 'seyed': 0},\n",
       " 'seyed': {'erfan': 0, 'majid': 66.67, 'mamad': 500.0}}"
      ]
     },
     "execution_count": 6,
     "metadata": {},
     "output_type": "execute_result"
    }
   ],
   "source": [
    "total_amount"
   ]
  },
  {
   "cell_type": "code",
   "execution_count": 7,
   "metadata": {},
   "outputs": [],
   "source": [
    "for name in names:\n",
    "    for person, amount in total_amount[name].items():\n",
    "        if (amount != 0) & (total_amount[person][name] != 0):\n",
    "            if amount > total_amount[person][name]:\n",
    "                total_amount[name][person]= round(amount - total_amount[person][name], 2)\n",
    "                total_amount[person][name]= 0\n",
    "            else:\n",
    "                total_amount[person][name]= round(total_amount[person][name] - amount, 2)\n",
    "                total_amount[name][person]= 0"
   ]
  },
  {
   "cell_type": "code",
   "execution_count": 8,
   "metadata": {},
   "outputs": [
    {
     "data": {
      "text/plain": [
       "{'erfan': {'majid': 66.67, 'mamad': 400.0, 'seyed': 0},\n",
       " 'majid': {'erfan': 0, 'mamad': 433.33, 'seyed': 133.33},\n",
       " 'mamad': {'erfan': 0, 'majid': 0, 'seyed': 0},\n",
       " 'seyed': {'erfan': 0, 'majid': 0, 'mamad': 500.0}}"
      ]
     },
     "execution_count": 8,
     "metadata": {},
     "output_type": "execute_result"
    }
   ],
   "source": [
    "total_amount"
   ]
  },
  {
   "cell_type": "code",
   "execution_count": 9,
   "metadata": {},
   "outputs": [],
   "source": [
    "# import pandas as pd\n",
    "\n",
    "# df= pd.DataFrame(total_amount)\n",
    "# df.sort_index(inplace= True)\n",
    "# df.fillna(0, inplace= True)\n",
    "# df"
   ]
  },
  {
   "cell_type": "code",
   "execution_count": null,
   "metadata": {},
   "outputs": [],
   "source": []
  }
 ],
 "metadata": {
  "kernelspec": {
   "display_name": "Qvenv",
   "language": "python",
   "name": "qvenv"
  },
  "language_info": {
   "codemirror_mode": {
    "name": "ipython",
    "version": 3
   },
   "file_extension": ".py",
   "mimetype": "text/x-python",
   "name": "python",
   "nbconvert_exporter": "python",
   "pygments_lexer": "ipython3",
   "version": "3.10.0"
  }
 },
 "nbformat": 4,
 "nbformat_minor": 2
}
